{
 "cells": [
  {
   "cell_type": "code",
   "execution_count": 97,
   "metadata": {},
   "outputs": [
    {
     "data": {
      "text/plain": [
       "\"\\n#EXAMPLE\\npro = Prologix('/dev/ttyUSB6')\\npro.address(27)\\npro.write('*IDN?')\\nprint(pro.readline())\\npro.address(12)\\npro.write('*IDN?')\\nprint(pro.readline())\\npro.write('++help')\\nprint(pro.readlines())\\n\""
      ]
     },
     "execution_count": 97,
     "metadata": {},
     "output_type": "execute_result"
    }
   ],
   "source": [
    "'''\n",
    "Prologix GPIB-USB wrapper module\n",
    "\n",
    "Author: Kon Aoki\n",
    "Date: 2019-06-21\n",
    "'''\n",
    "import serial\n",
    "class Prologix:\n",
    "    def __init__(self, port):\n",
    "        self.port = port\n",
    "        self.address_var=0\n",
    "        self.timeout=1 #0.1 second timeout for readline\n",
    "        self.eol = '\\n'\n",
    "        \n",
    "        self.ser = serial.Serial(port,timeout=self.timeout) #opens serial port\n",
    "        self.ser.write(str.encode('++ver'+self.eol)) #asks the prologix adapter for its version for sanity check\n",
    "        ans = self.ser.readline() #readback from the adapter\n",
    "        self.ser.write(str.encode('++mode 1'+self.eol)) #sets adapter to controller mode\n",
    "        self.ser.write(str.encode('++read_tmo_ms 100'+self.eol)) #1ms timeout for each character read\n",
    "        \n",
    "    def address(self, addr=None):\n",
    "        if addr != None:\n",
    "            self.address_var=addr\n",
    "            self.ser.write(str.encode('++addr '+str(self.address_var)+self.eol)) #Note 1\n",
    "        return self.address_var\n",
    "    def write(self, command, addr=None):\n",
    "        if addr != None:\n",
    "            self.address_var=addr\n",
    "            self.ser.write(str.encode('++addr '+str(self.address_var)+self.eol)) #Note 1\n",
    "        type='SCPI'\n",
    "        if command[0]=='+' and command[1]=='+': #checks if command is ++something\n",
    "            type='Prologix'\n",
    "        if type=='SCPI':\n",
    "            self.listen() #Note 2\n",
    "        r = self.ser.write(str.encode(command+self.eol))\n",
    "        \n",
    "        return r\n",
    "    def readline(self, addr=None):\n",
    "        if addr != None:\n",
    "            self.address_var=addr\n",
    "            self.ser.write(str.encode('++addr '+str(self.address_var)+self.eol)) #Note 1\n",
    "        self.talk() #Note 3\n",
    "        return self.ser.readline().decode().strip()\n",
    "    def readlines(self, addr=None):\n",
    "        if addr != None:\n",
    "            self.address_var=addr\n",
    "            self.ser.write(str.encode('++addr '+str(self.address_var)+self.eol)) #Note 1\n",
    "        output=''\n",
    "        self.talk() #Note 3\n",
    "        line=self.ser.readline()\n",
    "        for line in self.ser:\n",
    "            output+=line.decode()\n",
    "        return output\n",
    "    def listen(self):\n",
    "        self.ser.write(str.encode('++auto 0'+self.eol)) #Note 1\n",
    "    def talk(self):\n",
    "        self.ser.write(str.encode('++auto 1'+self.eol)) #Note 1\n",
    "    def close():\n",
    "        self.ser.close()\n",
    "    def open():\n",
    "        elf.ser = serial.Serial(port,timeout=self.timeout)\n",
    "\n",
    "#Note 1: don't need to set instrument to listen because this is a prologix command\n",
    "#Note 2: sets instrument to listen mode before sending a command\n",
    "#Note 3: sets instrument to talk mode before reading from it\n",
    "'''\n",
    "#EXAMPLE\n",
    "pro = Prologix('/dev/ttyUSB6')\n",
    "pro.address(27)\n",
    "pro.write('*IDN?')\n",
    "print(pro.readline())\n",
    "pro.address(12)\n",
    "pro.write('*IDN?')\n",
    "print(pro.readline())\n",
    "pro.write('++help')\n",
    "print(pro.readlines())\n",
    "'''\n",
    "        "
   ]
  },
  {
   "cell_type": "code",
   "execution_count": null,
   "metadata": {},
   "outputs": [],
   "source": []
  }
 ],
 "metadata": {
  "kernelspec": {
   "display_name": "Python 3",
   "language": "python",
   "name": "python3"
  },
  "language_info": {
   "codemirror_mode": {
    "name": "ipython",
    "version": 3
   },
   "file_extension": ".py",
   "mimetype": "text/x-python",
   "name": "python",
   "nbconvert_exporter": "python",
   "pygments_lexer": "ipython3",
   "version": "3.6.8"
  }
 },
 "nbformat": 4,
 "nbformat_minor": 2
}
